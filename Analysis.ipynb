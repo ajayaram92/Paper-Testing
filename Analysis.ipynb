{
  "nbformat": 4,
  "nbformat_minor": 0,
  "metadata": {
    "colab": {
      "name": "Analysis.ipynb",
      "provenance": [],
      "authorship_tag": "ABX9TyPYvtGImwbgo3cE9/NbFxsS",
      "include_colab_link": true
    },
    "kernelspec": {
      "name": "python3",
      "display_name": "Python 3"
    },
    "language_info": {
      "name": "python"
    }
  },
  "cells": [
    {
      "cell_type": "markdown",
      "metadata": {
        "id": "view-in-github",
        "colab_type": "text"
      },
      "source": [
        "<a href=\"https://colab.research.google.com/github/ajayaram92/Paper-Testing/blob/main/Analysis.ipynb\" target=\"_parent\"><img src=\"https://colab.research.google.com/assets/colab-badge.svg\" alt=\"Open In Colab\"/></a>"
      ]
    },
    {
      "cell_type": "markdown",
      "source": [
        "Importing Modules"
      ],
      "metadata": {
        "id": "1TUQR9QuS6HP"
      }
    },
    {
      "cell_type": "code",
      "execution_count": 14,
      "metadata": {
        "id": "begHBuNjnPFu"
      },
      "outputs": [],
      "source": [
        "import requests\n",
        "import pandas as pd\n",
        "import numpy as np\n",
        "import tensorflow as tf\n",
        "from scipy import stats\n",
        "from scipy.signal import savgol_filter\n",
        "\n",
        "from sklearn.cross_decomposition import PLSRegression\n",
        "from sklearn.model_selection import cross_val_predict\n",
        "from sklearn.metrics import mean_squared_error, r2_score\n",
        "\n",
        "\n",
        "from sklearn.model_selection import cross_val_score, GridSearchCV\n",
        "from sklearn.ensemble import RandomForestRegressor\n",
        "from sklearn.preprocessing import MinMaxScaler"
      ]
    },
    {
      "cell_type": "markdown",
      "source": [
        "Getting Data from GitHub"
      ],
      "metadata": {
        "id": "MdzX8gK1S1wk"
      }
    },
    {
      "cell_type": "code",
      "source": [
        "def get_data(url):\n",
        "  df = pd.read_csv(url)\n",
        "  df = df.loc[:, ~df.columns.str.contains('^Unnamed')]\n",
        "  return df"
      ],
      "metadata": {
        "id": "A5VhHu1AAG4r"
      },
      "execution_count": 3,
      "outputs": []
    },
    {
      "cell_type": "markdown",
      "source": [
        "Pre Processing function for Sav Gol Fiter and Standardising"
      ],
      "metadata": {
        "id": "XJCZACCmSokc"
      }
    },
    {
      "cell_type": "code",
      "source": [
        "url=\"https://raw.githubusercontent.com/ajayaram92/Paper-Testing/main/ABv1.csv\"\n",
        "urltest = \"https://raw.githubusercontent.com/ajayaram92/Paper-Testing/4e49e5fde3d27b7a24d8fa9cd3b5e76ca8b9db3f/peach_spectra_brix.csv\"\n",
        "df = get_data(url)\n",
        "testdf = get_data(urltest)\n",
        "print(get_data(url))"
      ],
      "metadata": {
        "id": "UQWaQqRaBGaB",
        "colab": {
          "base_uri": "https://localhost:8080/"
        },
        "outputId": "99f716d1-e5b9-4e3c-dea1-8607fa97a65a"
      },
      "execution_count": 4,
      "outputs": [
        {
          "output_type": "stream",
          "name": "stdout",
          "text": [
            "      LATITUDE  LONGITUDE    OC   NDVI_v1    s2_1    s2_2    s2_3  s2_4  \\\n",
            "0    12.868275  75.239625  0.51  0.108786   730.0  1022.0  1456.0  2533   \n",
            "1    12.853780  74.972660  0.79  0.138859  1214.5  1320.0  1963.0  2400   \n",
            "2    12.853512  74.974800  1.41  0.150655  1202.5  1468.0  2082.0  2478   \n",
            "3    12.890035  75.230001  0.58  0.093620   740.0  1488.0  2016.0  2447   \n",
            "4    12.853595  74.972970  0.46  0.147096  1174.0  1447.0  2029.0  2357   \n",
            "..         ...        ...   ...       ...     ...     ...     ...   ...   \n",
            "139  12.854510  74.978510  0.86  0.296267   616.5   842.5  1032.5  1348   \n",
            "140  12.850010  75.230010  0.91  0.202997   802.5   896.5  1089.0  1319   \n",
            "141  12.849920  74.984800  1.04  0.224261  1065.0   968.5  1303.0  1594   \n",
            "142  12.877939  75.248664  0.41  0.284812   607.0   630.5   859.5  1135   \n",
            "143  12.848580  74.983820  0.85  0.289938   818.5  1050.0  1494.0  1502   \n",
            "\n",
            "       s2_5    s2_6    s2_7    s2_8    s2_9   s2_10   s2_11   s2_12  \n",
            "0    2725.5  2899.5  3021.5  3142.0  3067.5  3153.0  4701.5  3389.0  \n",
            "1    2727.5  3010.0  3301.5  3174.0  3407.0  3267.0  4501.5  3532.5  \n",
            "2    2888.0  3149.0  3402.5  3281.0  3539.5  3434.0  4924.0  3886.5  \n",
            "3    2407.0  2808.5  3002.0  2952.5  2965.5  3063.5  3289.5  2595.0  \n",
            "4    2713.5  3053.0  3237.0  3170.0  3365.0  3265.0  4624.0  3614.5  \n",
            "..      ...     ...     ...     ...     ...     ...     ...     ...  \n",
            "139  1617.5  2090.5  2370.0  2483.0  2631.5  2731.5  3391.0  2349.0  \n",
            "140  1617.0  2398.5  2832.5  2713.0  3060.0  3114.0  2858.0  1888.0  \n",
            "141  2204.5  2764.5  3200.0  3286.0  3624.0  3668.0  4096.5  2902.0  \n",
            "142  1509.5  1803.0  2138.5  2347.5  2506.5  2662.0  3401.0  2478.0  \n",
            "143  2198.0  2693.0  2996.0  3117.0  3237.5  3228.5  3338.5  2358.0  \n",
            "\n",
            "[144 rows x 16 columns]\n"
          ]
        }
      ]
    },
    {
      "cell_type": "code",
      "source": [
        "def pre_processing(data, sav_gol=True, sav_win=11, sav_pol=2, std=True):\n",
        "  new_df =  data.drop([\"LATITUDE\", \"LONGITUDE\", \"OC\"], axis =1)  # removing lat long and oc for Sav gol\n",
        "  if \"NDVI_v1\" in data.columns:\n",
        "    new_df = new_df.drop(\"NDVI_v1\", axis =1 )\n",
        "  \n",
        "\n",
        "  if sav_gol==True:   # checking if sav_gol is required\n",
        "    new_df = pd.DataFrame(savgol_filter(new_df, sav_win, sav_pol, axis=1))\n",
        "  \n",
        "  \n",
        "  if \"NDVI_v1\" in data.columns:\n",
        "    new_df.columns = data.columns[4:]\n",
        "  else:\n",
        "    new_df.columns = data.columns[3:]\n",
        "  \n",
        "  new_df[\"OC\"] = data[\"OC\"]\n",
        "  if std==True:       # checking if standardising is required\n",
        "      mean = new_df.mean(axis = 0)\n",
        "      std = new_df.std(axis = 0)\n",
        "      new_df = (new_df-mean)/std\n",
        "  \n",
        "  return (new_df)"
      ],
      "metadata": {
        "id": "fBtlEqxQBx0y"
      },
      "execution_count": 8,
      "outputs": []
    },
    {
      "cell_type": "code",
      "source": [
        "pro_df = pre_processing(df)"
      ],
      "metadata": {
        "id": "wV_4PJwiVmM7",
        "outputId": "65b6dc0e-347f-47df-a9b5-d30d9b707a15",
        "colab": {
          "base_uri": "https://localhost:8080/"
        }
      },
      "execution_count": 9,
      "outputs": [
        {
          "output_type": "stream",
          "name": "stdout",
          "text": [
            "       s2_1    s2_2    s2_3  s2_4    s2_5    s2_6    s2_7    s2_8    s2_9  \\\n",
            "0     730.0  1022.0  1456.0  2533  2725.5  2899.5  3021.5  3142.0  3067.5   \n",
            "1    1214.5  1320.0  1963.0  2400  2727.5  3010.0  3301.5  3174.0  3407.0   \n",
            "2    1202.5  1468.0  2082.0  2478  2888.0  3149.0  3402.5  3281.0  3539.5   \n",
            "3     740.0  1488.0  2016.0  2447  2407.0  2808.5  3002.0  2952.5  2965.5   \n",
            "4    1174.0  1447.0  2029.0  2357  2713.5  3053.0  3237.0  3170.0  3365.0   \n",
            "..      ...     ...     ...   ...     ...     ...     ...     ...     ...   \n",
            "139   616.5   842.5  1032.5  1348  1617.5  2090.5  2370.0  2483.0  2631.5   \n",
            "140   802.5   896.5  1089.0  1319  1617.0  2398.5  2832.5  2713.0  3060.0   \n",
            "141  1065.0   968.5  1303.0  1594  2204.5  2764.5  3200.0  3286.0  3624.0   \n",
            "142   607.0   630.5   859.5  1135  1509.5  1803.0  2138.5  2347.5  2506.5   \n",
            "143   818.5  1050.0  1494.0  1502  2198.0  2693.0  2996.0  3117.0  3237.5   \n",
            "\n",
            "      s2_10   s2_11   s2_12  \n",
            "0    3153.0  4701.5  3389.0  \n",
            "1    3267.0  4501.5  3532.5  \n",
            "2    3434.0  4924.0  3886.5  \n",
            "3    3063.5  3289.5  2595.0  \n",
            "4    3265.0  4624.0  3614.5  \n",
            "..      ...     ...     ...  \n",
            "139  2731.5  3391.0  2349.0  \n",
            "140  3114.0  2858.0  1888.0  \n",
            "141  3668.0  4096.5  2902.0  \n",
            "142  2662.0  3401.0  2478.0  \n",
            "143  3228.5  3338.5  2358.0  \n",
            "\n",
            "[144 rows x 12 columns]\n"
          ]
        }
      ]
    },
    {
      "cell_type": "code",
      "source": [
        "print(df.mean(axis=0))\n",
        "print(pre_processing(df))"
      ],
      "metadata": {
        "id": "drJyJRfrJdI8",
        "outputId": "9ef68a54-308c-4d75-94d4-a21a704e36d3",
        "colab": {
          "base_uri": "https://localhost:8080/"
        }
      },
      "execution_count": 10,
      "outputs": [
        {
          "output_type": "stream",
          "name": "stdout",
          "text": [
            "LATITUDE       12.920555\n",
            "LONGITUDE      74.974315\n",
            "OC              0.970139\n",
            "NDVI_v1         0.218766\n",
            "s2_1          786.725694\n",
            "s2_2         1110.531250\n",
            "s2_3         1492.836806\n",
            "s2_4         1919.486111\n",
            "s2_5         2182.961806\n",
            "s2_6         2627.638889\n",
            "s2_7         2908.791667\n",
            "s2_8         2958.017361\n",
            "s2_9         3149.187500\n",
            "s2_10        3103.295139\n",
            "s2_11        3878.663194\n",
            "s2_12        2815.208333\n",
            "dtype: float64\n",
            "       s2_1    s2_2    s2_3  s2_4    s2_5    s2_6    s2_7    s2_8    s2_9  \\\n",
            "0     730.0  1022.0  1456.0  2533  2725.5  2899.5  3021.5  3142.0  3067.5   \n",
            "1    1214.5  1320.0  1963.0  2400  2727.5  3010.0  3301.5  3174.0  3407.0   \n",
            "2    1202.5  1468.0  2082.0  2478  2888.0  3149.0  3402.5  3281.0  3539.5   \n",
            "3     740.0  1488.0  2016.0  2447  2407.0  2808.5  3002.0  2952.5  2965.5   \n",
            "4    1174.0  1447.0  2029.0  2357  2713.5  3053.0  3237.0  3170.0  3365.0   \n",
            "..      ...     ...     ...   ...     ...     ...     ...     ...     ...   \n",
            "139   616.5   842.5  1032.5  1348  1617.5  2090.5  2370.0  2483.0  2631.5   \n",
            "140   802.5   896.5  1089.0  1319  1617.0  2398.5  2832.5  2713.0  3060.0   \n",
            "141  1065.0   968.5  1303.0  1594  2204.5  2764.5  3200.0  3286.0  3624.0   \n",
            "142   607.0   630.5   859.5  1135  1509.5  1803.0  2138.5  2347.5  2506.5   \n",
            "143   818.5  1050.0  1494.0  1502  2198.0  2693.0  2996.0  3117.0  3237.5   \n",
            "\n",
            "      s2_10   s2_11   s2_12  \n",
            "0    3153.0  4701.5  3389.0  \n",
            "1    3267.0  4501.5  3532.5  \n",
            "2    3434.0  4924.0  3886.5  \n",
            "3    3063.5  3289.5  2595.0  \n",
            "4    3265.0  4624.0  3614.5  \n",
            "..      ...     ...     ...  \n",
            "139  2731.5  3391.0  2349.0  \n",
            "140  3114.0  2858.0  1888.0  \n",
            "141  3668.0  4096.5  2902.0  \n",
            "142  2662.0  3401.0  2478.0  \n",
            "143  3228.5  3338.5  2358.0  \n",
            "\n",
            "[144 rows x 12 columns]\n",
            "         s2_1      s2_2      s2_3      s2_4      s2_5      s2_6      s2_7  \\\n",
            "0    0.074971  0.315225  0.459936  0.546171  0.616036  0.688257  0.683772   \n",
            "1    1.906177  1.826187  1.525292  1.288891  1.147528  1.078028  1.005147   \n",
            "2    2.315007  2.185427  1.821706  1.557956  1.424153  1.392654  1.333193   \n",
            "3    0.789561  1.207481  1.262533  1.165112  1.011846  0.814257  0.283534   \n",
            "4    2.168100  1.966341  1.566125  1.274981  1.108051  1.031874  0.907421   \n",
            "..        ...       ...       ...       ...       ...       ...       ...   \n",
            "139 -0.947758 -1.438967 -1.587476 -1.608964 -1.611066 -1.619098 -1.599146   \n",
            "140 -1.187307 -1.137493 -0.969452 -0.853180 -0.806270 -0.816968 -0.618813   \n",
            "141 -0.139169 -0.147837 -0.085959  0.004334  0.114731  0.252562  0.774143   \n",
            "142 -1.238187 -2.006734 -2.256465 -2.292983 -2.280132 -2.257643 -2.173789   \n",
            "143 -0.640896 -0.311801 -0.057212  0.075421  0.129647  0.131977  0.239648   \n",
            "\n",
            "         s2_8      s2_9     s2_10     s2_11     s2_12        OC  \n",
            "0    0.812509  0.976678  1.125505  1.173465  1.103925 -1.445965  \n",
            "1    1.086680  1.220012  1.344159  1.365129  1.268358 -0.566078  \n",
            "2    1.507975  1.781967  2.064478  2.193547  2.118018  1.382243  \n",
            "3    0.005808 -0.294887 -0.595991 -0.814006 -0.894234 -1.225993  \n",
            "4    1.004905  1.190337  1.403796  1.529447  1.517074 -1.603087  \n",
            "..        ...       ...       ...       ...       ...       ...  \n",
            "139 -1.623949 -1.621678 -1.513490 -1.244351 -0.893349 -0.346106  \n",
            "140 -0.778596 -1.067850 -1.430789 -1.720605 -1.835756 -0.188984  \n",
            "141  0.931933  1.023481  0.994531  0.806667  0.530188  0.219535  \n",
            "142 -2.108858 -1.974832 -1.678470 -1.192676 -0.661184 -1.760210  \n",
            "143  0.131743 -0.083877 -0.400255 -0.732564 -0.971038 -0.377531  \n",
            "\n",
            "[144 rows x 13 columns]\n"
          ]
        }
      ]
    },
    {
      "cell_type": "markdown",
      "source": [
        "PLSR"
      ],
      "metadata": {
        "id": "a6PtinoFNajM"
      }
    },
    {
      "cell_type": "code",
      "source": [
        "def PLSR(data):\n",
        "    y = data[\"OC\"]\n",
        "    X = data.drop(\"OC\", axis=1)\n",
        "    n_comp= len(data.columns)\n",
        "    if n_comp > 100:\n",
        "      n_comp = 20\n",
        "    mse = []\n",
        "    component = np.arange(1, n_comp)\n",
        " \n",
        "    for i in component:\n",
        "        pls = PLSRegression(n_components=i)\n",
        " \n",
        "        # Cross-validation\n",
        "        y_cv = cross_val_predict(pls, X, y, cv=10)\n",
        "        mse.append(r2_score(y, y_cv))\n",
        "\n",
        "\n",
        "\n",
        "    # Calculate minimum in MSE\n",
        "    print(mse)\n",
        "    msemin = np.argmax(mse)\n",
        "    print(\"number of components used\", msemin+1)\n",
        " \n",
        "    # Define PLS object with optimal number of components\n",
        "    pls_opt = PLSRegression(n_components=msemin+1)\n",
        " \n",
        "    # Fir to the entire dataset\n",
        "    pls_opt.fit(X, y)\n",
        "    y_c = pls_opt.predict(X)\n",
        " \n",
        "    # Cross-validation\n",
        "    y_cv = cross_val_predict(pls_opt, X, y, cv=10)\n",
        " \n",
        "    # Calculate scores for calibration and cross-validation\n",
        "    score_c = r2_score(y, y_c)\n",
        "    score_cv = r2_score(y, y_cv)\n",
        " \n",
        "    # Calculate mean squared error for calibration and cross validation\n",
        "    mse_c = mean_squared_error(y, y_c)\n",
        "    mse_cv = mean_squared_error(y, y_cv)\n",
        " \n",
        "    print('R2 calib: %5.3f'  % score_c)\n",
        "    print('R2 CV: %5.3f'  % score_cv)\n",
        "    print('MSE calib: %5.3f' % mse_c)\n",
        "    print('MSE CV: %5.3f' % mse_cv)\n",
        " \n",
        "    # Plot regression and figures of merit\n",
        "    rangey = max(y) - min(y)\n",
        "    rangex = max(y_c) - min(y_c)\n",
        "    #z = np.polyfit(y, y_c, 1)\n",
        "\n",
        "    return score_cv, mse_cv"
      ],
      "metadata": {
        "id": "BvUcbNYueogv"
      },
      "execution_count": 11,
      "outputs": []
    },
    {
      "cell_type": "code",
      "source": [
        "print(PLSR(pro_df))\n",
        "#print(PLSR(testdf))"
      ],
      "metadata": {
        "id": "OdlSm2L8xNiH",
        "outputId": "30c29d83-fd6a-44c6-f874-755c90ce78c4",
        "colab": {
          "base_uri": "https://localhost:8080/"
        }
      },
      "execution_count": 22,
      "outputs": [
        {
          "output_type": "stream",
          "name": "stdout",
          "text": [
            "[-0.08058051080929629, -0.019888000821133733, -0.025590192937867018, -0.05074292585687701, -0.032641544006957623, -1.0700573697954603, -0.8792987083328805, -4.378084055681853, -5.0636768178235645, -62.99510912111578, -97.87035235740544, -60006.314654660455]\n",
            "number of components used 2\n",
            "R2 calib: 0.051\n",
            "R2 CV: -0.020\n",
            "MSE calib: 0.942\n",
            "MSE CV: 1.013\n",
            "(-0.019888000821133733, 1.0128054452598758)\n"
          ]
        }
      ]
    },
    {
      "cell_type": "markdown",
      "source": [
        "Random Forrest Regressor"
      ],
      "metadata": {
        "id": "Fj-nL88sNR1P"
      }
    },
    {
      "cell_type": "code",
      "source": [
        "def RFR(data):\n",
        "    y = data[\"OC\"]\n",
        "    X = data.drop(\"OC\", axis=1)\n",
        "# Perform Grid-Search\n",
        "    gsc = GridSearchCV(\n",
        "        estimator=RandomForestRegressor(),\n",
        "        param_grid={\n",
        "            'max_depth': range(3,7),\n",
        "            'n_estimators': (10, 50, 100, 1000),\n",
        "        },\n",
        "        cv=5, scoring='neg_mean_squared_error', verbose=0, n_jobs=-1)\n",
        "    \n",
        "    grid_result = gsc.fit(X, y)\n",
        "    best_params = grid_result.best_params_\n",
        "    \n",
        "    rfr = RandomForestRegressor(max_depth=best_params[\"max_depth\"], n_estimators=best_params[\"n_estimators\"],random_state=False, verbose=False)\n",
        "# Perform 10-Fold CV\n",
        "    scores = cross_val_score(rfr, X, y, cv=10, scoring='neg_mean_absolute_error')\n",
        "    y_cv = cross_val_predict(rfr, X, y, cv=10)\n",
        "\n",
        "    score_cv = r2_score(y, y_cv)\n",
        "    mse_cv = mean_squared_error(y, y_cv)\n",
        "    return score_cv, mse_cv"
      ],
      "metadata": {
        "id": "zY80JcbNJ2zH"
      },
      "execution_count": 20,
      "outputs": []
    },
    {
      "cell_type": "code",
      "source": [
        "print(RFR(pro_df))"
      ],
      "metadata": {
        "id": "zNjCtsvfL6Lk",
        "outputId": "5b60bf6b-32ed-45a9-fc44-bb1585281b91",
        "colab": {
          "base_uri": "https://localhost:8080/"
        }
      },
      "execution_count": 21,
      "outputs": [
        {
          "output_type": "stream",
          "name": "stdout",
          "text": [
            "(-0.14594822311611244, 1.137990249344473)\n"
          ]
        }
      ]
    }
  ]
}