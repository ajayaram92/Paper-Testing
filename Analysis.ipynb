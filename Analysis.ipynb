{
  "nbformat": 4,
  "nbformat_minor": 0,
  "metadata": {
    "colab": {
      "name": "Analysis.ipynb",
      "provenance": [],
      "authorship_tag": "ABX9TyMxyfYkIsGaiHC07Rc9jZ7X",
      "include_colab_link": true
    },
    "kernelspec": {
      "name": "python3",
      "display_name": "Python 3"
    },
    "language_info": {
      "name": "python"
    }
  },
  "cells": [
    {
      "cell_type": "markdown",
      "metadata": {
        "id": "view-in-github",
        "colab_type": "text"
      },
      "source": [
        "<a href=\"https://colab.research.google.com/github/ajayaram92/Paper-Testing/blob/main/Analysis.ipynb\" target=\"_parent\"><img src=\"https://colab.research.google.com/assets/colab-badge.svg\" alt=\"Open In Colab\"/></a>"
      ]
    },
    {
      "cell_type": "markdown",
      "source": [
        "Importing Modules"
      ],
      "metadata": {
        "id": "1TUQR9QuS6HP"
      }
    },
    {
      "cell_type": "code",
      "execution_count": 1,
      "metadata": {
        "id": "begHBuNjnPFu"
      },
      "outputs": [],
      "source": [
        "import requests\n",
        "import pandas as pd\n",
        "import numpy as np\n",
        "import tensorflow as tf\n",
        "from scipy import stats\n",
        "from scipy.signal import savgol_filter\n",
        "\n",
        "from sklearn.cross_decomposition import PLSRegression\n",
        "from sklearn.model_selection import cross_val_predict\n",
        "from sklearn.metrics import mean_squared_error, r2_score"
      ]
    },
    {
      "cell_type": "markdown",
      "source": [
        "Getting Data from GitHub"
      ],
      "metadata": {
        "id": "MdzX8gK1S1wk"
      }
    },
    {
      "cell_type": "code",
      "source": [
        "def get_data(url):\n",
        "  df = pd.read_csv(url)\n",
        "  df = df.loc[:, ~df.columns.str.contains('^Unnamed')]\n",
        "  return df"
      ],
      "metadata": {
        "id": "A5VhHu1AAG4r"
      },
      "execution_count": 2,
      "outputs": []
    },
    {
      "cell_type": "markdown",
      "source": [
        "Pre Processing function for Sav Gol Fiter and Standardising"
      ],
      "metadata": {
        "id": "XJCZACCmSokc"
      }
    },
    {
      "cell_type": "code",
      "source": [
        "url=\"https://raw.githubusercontent.com/ajayaram92/Paper-Testing/main/Av1.csv\"\n",
        "urltest = \"https://raw.githubusercontent.com/ajayaram92/Paper-Testing/4e49e5fde3d27b7a24d8fa9cd3b5e76ca8b9db3f/peach_spectra_brix.csv\"\n",
        "df = get_data(url)\n",
        "testdf = get_data(urltest)\n",
        "print(len(testdf.columns))\n",
        "\n",
        "#print(get_data(url))"
      ],
      "metadata": {
        "id": "UQWaQqRaBGaB",
        "outputId": "0637dbc3-eabb-4185-a27d-7baee2d02edb",
        "colab": {
          "base_uri": "https://localhost:8080/"
        }
      },
      "execution_count": 14,
      "outputs": [
        {
          "output_type": "stream",
          "name": "stdout",
          "text": [
            "601\n"
          ]
        }
      ]
    },
    {
      "cell_type": "code",
      "source": [
        "def pre_processing(data, sav_gol=True, sav_win=11, sav_pol=2, std=True):\n",
        "  \n",
        "  new_df =  data.drop([\"LATITUDE\", \"LONGITUDE\", \"OC\"], axis =1)  # removing lat long and oc for Sav gol\n",
        "  if sav_gol==True:   # checking if sav_gol is required\n",
        "    new_df = pd.DataFrame(savgol_filter(new_df, sav_win, sav_pol, axis=1))\n",
        "  new_df.columns = data.columns[3:]\n",
        "  \n",
        "  new_df[\"OC\"] = data[\"OC\"]\n",
        "  if std==True:       # checking if standardising is required\n",
        "      mean = new_df.mean(axis = 0)\n",
        "      std = new_df.std(axis = 0)\n",
        "      new_df = (new_df-mean)/std\n",
        "  \n",
        "  return (new_df)"
      ],
      "metadata": {
        "id": "fBtlEqxQBx0y"
      },
      "execution_count": 7,
      "outputs": []
    },
    {
      "cell_type": "code",
      "source": [
        "pro_df = pre_processing(df)"
      ],
      "metadata": {
        "id": "wV_4PJwiVmM7"
      },
      "execution_count": 8,
      "outputs": []
    },
    {
      "cell_type": "code",
      "source": [
        "print(df.mean(axis=0))\n",
        "print(pre_processing(df))"
      ],
      "metadata": {
        "id": "drJyJRfrJdI8",
        "outputId": "4bae7b40-c0d9-4f6c-aba4-932561ad21ed",
        "colab": {
          "base_uri": "https://localhost:8080/"
        }
      },
      "execution_count": null,
      "outputs": [
        {
          "output_type": "stream",
          "name": "stdout",
          "text": [
            "LATITUDE       12.920576\n",
            "LONGITUDE      74.991137\n",
            "OC              0.962673\n",
            "443.9         750.347926\n",
            "496.6        1041.041475\n",
            "560          1412.092166\n",
            "664.5        1809.993088\n",
            "703.9        2086.711982\n",
            "740.2        2603.760369\n",
            "782.5        2900.937788\n",
            "835.1        2924.559908\n",
            "864.8        3120.755760\n",
            "945          3080.288018\n",
            "1613.7       3659.124424\n",
            "2202.4       2615.682028\n",
            "dtype: float64\n",
            "        443.9     496.6       560     664.5     703.9     740.2     782.5  \\\n",
            "0   -1.359204 -1.505741 -1.456658 -1.392360 -1.384494 -1.442043 -1.506616   \n",
            "1   -1.833071 -0.889543 -0.080230  0.383639  0.595658  0.638761  0.730407   \n",
            "2   -1.221219 -1.173820 -0.987467 -0.828131 -0.733301 -0.693434 -0.484871   \n",
            "3   -0.572184 -0.335736 -0.134436 -0.031155 -0.004799 -0.035738  0.063719   \n",
            "4   -1.789664 -1.804455 -1.604452 -1.428915 -1.344719 -1.346818 -1.185321   \n",
            "..        ...       ...       ...       ...       ...       ...       ...   \n",
            "212 -0.209428  0.756358  1.418258  1.772530  1.971647  2.097676  2.240471   \n",
            "213  0.598125  2.076387  2.929799  3.293339  3.439472  3.485107  3.503939   \n",
            "214 -1.130889 -0.528272 -0.017179  0.273195  0.404193  0.428526  0.533886   \n",
            "215 -0.522186 -0.826848 -0.948649 -0.971201 -0.965863 -0.954557 -0.760585   \n",
            "216  0.251318  0.163369  0.128809  0.160590  0.247068  0.385525  0.911582   \n",
            "\n",
            "        835.1     864.8       945    1613.7    2202.4        OC  \n",
            "0   -1.674019 -1.881307 -2.018313 -1.981277 -1.808073  0.114616  \n",
            "1    0.505989  0.064703 -0.551875 -1.165377 -1.608618 -0.131031  \n",
            "2   -0.598969 -0.811687 -1.061802 -1.245716 -1.321511  0.636616  \n",
            "3   -0.124158 -0.430652 -0.805283 -1.126022 -1.315513  0.053205  \n",
            "4   -1.340374 -1.608044 -1.883045 -2.025786 -2.014785 -0.960089  \n",
            "..        ...       ...       ...       ...       ...       ...  \n",
            "212  2.268402  2.170741  1.854888  1.340942  0.801750  0.237440  \n",
            "213  3.344976  2.982317  2.307296  1.407291  0.556987  0.483087  \n",
            "214  0.302498 -0.095418 -0.616452 -1.108052 -1.443033 -1.574207  \n",
            "215 -0.767640 -0.800354 -0.815439 -0.776573 -0.699300 -0.069619  \n",
            "216  1.103383  1.237932  1.247631  1.098940  0.866276  0.237440  \n",
            "\n",
            "[217 rows x 13 columns]\n"
          ]
        }
      ]
    },
    {
      "cell_type": "code",
      "source": [
        "def PLSR(data):\n",
        "    y = data[\"OC\"]\n",
        "    X = data.drop(\"OC\", axis=1)\n",
        "    n_comp= len(data.columns)\n",
        "    if n_comp > 100:\n",
        "      n_comp = 20\n",
        "    mse = []\n",
        "    component = np.arange(1, n_comp)\n",
        " \n",
        "    for i in component:\n",
        "        pls = PLSRegression(n_components=i)\n",
        " \n",
        "        # Cross-validation\n",
        "        y_cv = cross_val_predict(pls, X, y, cv=10)\n",
        "        mse.append(mean_squared_error(y, y_cv))\n",
        "\n",
        "\n",
        "\n",
        "    # Calculate minimum in MSE\n",
        "    print(mse)\n",
        "    msemin = np.argmin(mse)\n",
        "    print(\"number of components used\", msemin+2)\n",
        " \n",
        "    # Define PLS object with optimal number of components\n",
        "    pls_opt = PLSRegression(n_components=msemin+2)\n",
        " \n",
        "    # Fir to the entire dataset\n",
        "    pls_opt.fit(X, y)\n",
        "    y_c = pls_opt.predict(X)\n",
        " \n",
        "    # Cross-validation\n",
        "    y_cv = cross_val_predict(pls_opt, X, y, cv=10)\n",
        " \n",
        "    # Calculate scores for calibration and cross-validation\n",
        "    score_c = r2_score(y, y_c)\n",
        "    score_cv = r2_score(y, y_cv)\n",
        " \n",
        "    # Calculate mean squared error for calibration and cross validation\n",
        "    mse_c = mean_squared_error(y, y_c)\n",
        "    mse_cv = mean_squared_error(y, y_cv)\n",
        " \n",
        "    print('R2 calib: %5.3f'  % score_c)\n",
        "    print('R2 CV: %5.3f'  % score_cv)\n",
        "    print('MSE calib: %5.3f' % mse_c)\n",
        "    print('MSE CV: %5.3f' % mse_cv)\n",
        " \n",
        "    # Plot regression and figures of merit\n",
        "    rangey = max(y) - min(y)\n",
        "    rangex = max(y_c) - min(y_c)\n",
        "    #z = np.polyfit(y, y_c, 1)\n",
        "\n",
        "    return score_cv, mse_cv"
      ],
      "metadata": {
        "id": "BvUcbNYueogv"
      },
      "execution_count": 20,
      "outputs": []
    },
    {
      "cell_type": "code",
      "source": [
        "print(PLSR(df.drop([\"LONGITUDE\",\"LATITUDE\"], axis=1)))\n",
        "print(PLSR(testdf))"
      ],
      "metadata": {
        "id": "OdlSm2L8xNiH",
        "outputId": "e7eccbbe-f063-44dd-f1ff-ef842496d3e8",
        "colab": {
          "base_uri": "https://localhost:8080/"
        }
      },
      "execution_count": 21,
      "outputs": [
        {
          "output_type": "stream",
          "name": "stdout",
          "text": [
            "[0.1136466594783879, 0.11298696451879801, 0.1209796965950782, 0.12397048474179799, 0.12232127553633541, 0.125246234691363, 0.1256757122258964, 0.1243522651271615, 0.12471120301263945, 0.1254430755205182, 0.12544310571238268, 0.12543871910108673]\n",
            "number of components used 3\n",
            "R2 calib: 0.081\n",
            "R2 CV: -0.146\n",
            "MSE calib: 0.097\n",
            "MSE CV: 0.121\n",
            "(-0.14593862414409586, 0.1209796965950782)\n",
            "[5.940885184351975, 5.075698862992621, 3.841087988672159, 3.2933856351325876, 2.8922015418652154, 2.704333545949628, 2.765416902135663, 2.903824782073147, 3.034705721517767, 3.3581801174600376, 3.5243551702952716, 3.9849955243395554, 3.578547405467716, 3.0121837611461375, 3.1857817328333193, 3.6324908476582043, 3.554204441704012, 3.456058992741654, 3.5439157905454137]\n",
            "number of components used 7\n",
            "R2 calib: 0.625\n",
            "R2 CV: 0.406\n",
            "MSE calib: 1.745\n",
            "MSE CV: 2.765\n",
            "(0.40649972569276405, 2.765416902135663)\n"
          ]
        }
      ]
    }
  ]
}