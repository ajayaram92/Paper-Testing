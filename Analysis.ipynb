{
  "nbformat": 4,
  "nbformat_minor": 0,
  "metadata": {
    "colab": {
      "name": "Analysis.ipynb",
      "provenance": [],
      "authorship_tag": "ABX9TyNhS6SQY/otHEySUU818ecS",
      "include_colab_link": true
    },
    "kernelspec": {
      "name": "python3",
      "display_name": "Python 3"
    },
    "language_info": {
      "name": "python"
    }
  },
  "cells": [
    {
      "cell_type": "markdown",
      "metadata": {
        "id": "view-in-github",
        "colab_type": "text"
      },
      "source": [
        "<a href=\"https://colab.research.google.com/github/ajayaram92/Paper-Testing/blob/main/Analysis.ipynb\" target=\"_parent\"><img src=\"https://colab.research.google.com/assets/colab-badge.svg\" alt=\"Open In Colab\"/></a>"
      ]
    },
    {
      "cell_type": "markdown",
      "source": [
        "Importing Modules"
      ],
      "metadata": {
        "id": "1TUQR9QuS6HP"
      }
    },
    {
      "cell_type": "code",
      "execution_count": 1,
      "metadata": {
        "id": "begHBuNjnPFu"
      },
      "outputs": [],
      "source": [
        "import requests\n",
        "import pandas as pd\n",
        "import numpy as np\n",
        "import tensorflow as tf\n",
        "from scipy import stats\n",
        "from scipy.signal import savgol_filter\n",
        "\n",
        "from sklearn.cross_decomposition import PLSRegression\n",
        "from sklearn.model_selection import cross_val_predict\n",
        "from sklearn.metrics import mean_squared_error, r2_score"
      ]
    },
    {
      "cell_type": "markdown",
      "source": [
        "Getting Data from GitHub"
      ],
      "metadata": {
        "id": "MdzX8gK1S1wk"
      }
    },
    {
      "cell_type": "code",
      "source": [
        "def get_data(url):\n",
        "  df = pd.read_csv(url)\n",
        "  df = df.loc[:, ~df.columns.str.contains('^Unnamed')]\n",
        "  return df"
      ],
      "metadata": {
        "id": "A5VhHu1AAG4r"
      },
      "execution_count": 2,
      "outputs": []
    },
    {
      "cell_type": "markdown",
      "source": [
        "Pre Processing function for Sav Gol Fiter and Standardising"
      ],
      "metadata": {
        "id": "XJCZACCmSokc"
      }
    },
    {
      "cell_type": "code",
      "source": [
        "url=\"https://raw.githubusercontent.com/ajayaram92/Paper-Testing/main/Av1.csv\"\n",
        "df=get_data(url)\n",
        "#print(get_data(url))"
      ],
      "metadata": {
        "id": "UQWaQqRaBGaB"
      },
      "execution_count": 3,
      "outputs": []
    },
    {
      "cell_type": "code",
      "source": [
        "def pre_processing(data, sav_gol=True, sav_win=11, sav_pol=2, std=True):\n",
        "  \n",
        "  new_df =  data.drop([\"LATITUDE\", \"LONGITUDE\", \"OC\"], axis =1)  # removing lat long and oc for Sav gol\n",
        "  if sav_gol==True:   # checking if sav_gol is required\n",
        "    new_df = pd.DataFrame(savgol_filter(new_df, sav_win, sav_pol, axis=1))\n",
        "  new_df.columns = data.columns[3:]\n",
        "  \n",
        "  new_df[\"OC\"] = data[\"OC\"]\n",
        "  if std==True:       # checking if standardising is required\n",
        "      mean = new_df.mean(axis = 0)\n",
        "      std = new_df.std(axis = 0)\n",
        "      new_df = (new_df-mean)/std\n",
        "  \n",
        "  return (new_df)"
      ],
      "metadata": {
        "id": "fBtlEqxQBx0y"
      },
      "execution_count": 4,
      "outputs": []
    },
    {
      "cell_type": "code",
      "source": [
        "pro_df = pre_processing(df)"
      ],
      "metadata": {
        "id": "wV_4PJwiVmM7"
      },
      "execution_count": 6,
      "outputs": []
    },
    {
      "cell_type": "code",
      "source": [
        "print(df.mean(axis=0))\n",
        "print(pre_processing(df))"
      ],
      "metadata": {
        "id": "drJyJRfrJdI8",
        "outputId": "f4bfd1d9-c625-484f-a18d-8c0774d8d0c1",
        "colab": {
          "base_uri": "https://localhost:8080/"
        }
      },
      "execution_count": 5,
      "outputs": [
        {
          "output_type": "stream",
          "name": "stdout",
          "text": [
            "LATITUDE       12.920576\n",
            "LONGITUDE      74.991137\n",
            "OC              0.962673\n",
            "443.9         750.347926\n",
            "496.6        1041.041475\n",
            "560          1412.092166\n",
            "664.5        1809.993088\n",
            "703.9        2086.711982\n",
            "740.2        2603.760369\n",
            "782.5        2900.937788\n",
            "835.1        2924.559908\n",
            "864.8        3120.755760\n",
            "945          3080.288018\n",
            "1613.7       3659.124424\n",
            "2202.4       2615.682028\n",
            "dtype: float64\n",
            "        443.9     496.6       560  ...    1613.7    2202.4        OC\n",
            "0   -1.359204 -1.505741 -1.456658  ... -1.981277 -1.808073  0.114616\n",
            "1   -1.833071 -0.889543 -0.080230  ... -1.165377 -1.608618 -0.131031\n",
            "2   -1.221219 -1.173820 -0.987467  ... -1.245716 -1.321511  0.636616\n",
            "3   -0.572184 -0.335736 -0.134436  ... -1.126022 -1.315513  0.053205\n",
            "4   -1.789664 -1.804455 -1.604452  ... -2.025786 -2.014785 -0.960089\n",
            "..        ...       ...       ...  ...       ...       ...       ...\n",
            "212 -0.209428  0.756358  1.418258  ...  1.340942  0.801750  0.237440\n",
            "213  0.598125  2.076387  2.929799  ...  1.407291  0.556987  0.483087\n",
            "214 -1.130889 -0.528272 -0.017179  ... -1.108052 -1.443033 -1.574207\n",
            "215 -0.522186 -0.826848 -0.948649  ... -0.776573 -0.699300 -0.069619\n",
            "216  0.251318  0.163369  0.128809  ...  1.098940  0.866276  0.237440\n",
            "\n",
            "[217 rows x 13 columns]\n"
          ]
        }
      ]
    },
    {
      "cell_type": "code",
      "source": [
        "def PLSR(data):\n",
        "   "
      ],
      "metadata": {
        "id": "BvUcbNYueogv"
      },
      "execution_count": null,
      "outputs": []
    }
  ]
}