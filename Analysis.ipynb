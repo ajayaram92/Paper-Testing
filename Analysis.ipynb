{
  "nbformat": 4,
  "nbformat_minor": 0,
  "metadata": {
    "colab": {
      "name": "Analysis.ipynb",
      "provenance": [],
      "authorship_tag": "ABX9TyOF1NrhKjAoRnSpjvppFVxn",
      "include_colab_link": true
    },
    "kernelspec": {
      "name": "python3",
      "display_name": "Python 3"
    },
    "language_info": {
      "name": "python"
    }
  },
  "cells": [
    {
      "cell_type": "markdown",
      "metadata": {
        "id": "view-in-github",
        "colab_type": "text"
      },
      "source": [
        "<a href=\"https://colab.research.google.com/github/ajayaram92/Paper-Testing/blob/main/Analysis.ipynb\" target=\"_parent\"><img src=\"https://colab.research.google.com/assets/colab-badge.svg\" alt=\"Open In Colab\"/></a>"
      ]
    },
    {
      "cell_type": "markdown",
      "source": [
        "Importing Modules"
      ],
      "metadata": {
        "id": "1TUQR9QuS6HP"
      }
    },
    {
      "cell_type": "code",
      "execution_count": 69,
      "metadata": {
        "id": "begHBuNjnPFu"
      },
      "outputs": [],
      "source": [
        "import requests\n",
        "import pandas as pd\n",
        "import numpy as np\n",
        "import tensorflow as tf\n",
        "from scipy import stats\n",
        "from scipy.signal import savgol_filter"
      ]
    },
    {
      "cell_type": "markdown",
      "source": [
        "Getting Data from GitHub"
      ],
      "metadata": {
        "id": "MdzX8gK1S1wk"
      }
    },
    {
      "cell_type": "code",
      "source": [
        "def get_data(url):\n",
        "  df = pd.read_csv(url)\n",
        "  df = df.loc[:, ~df.columns.str.contains('^Unnamed')]\n",
        "  return df"
      ],
      "metadata": {
        "id": "A5VhHu1AAG4r"
      },
      "execution_count": 70,
      "outputs": []
    },
    {
      "cell_type": "markdown",
      "source": [
        "Pre Processing function for Sav Gol Fiter and Standardising"
      ],
      "metadata": {
        "id": "XJCZACCmSokc"
      }
    },
    {
      "cell_type": "code",
      "source": [
        "url=\"https://raw.githubusercontent.com/ajayaram92/Paper-Testing/main/Av1.csv\"\n",
        "df=get_data(url)\n",
        "#print(get_data(url))"
      ],
      "metadata": {
        "id": "UQWaQqRaBGaB",
        "outputId": "3b8d342c-d04b-4215-99ec-8f7fc08c42f4",
        "colab": {
          "base_uri": "https://localhost:8080/"
        }
      },
      "execution_count": 72,
      "outputs": [
        {
          "output_type": "stream",
          "name": "stdout",
          "text": [
            "      LATITUDE  LONGITUDE    OC   443.9  ...   864.8     945  1613.7  2202.4\n",
            "0    12.878801  75.230820  1.00   596.5  ...  2558.5  2770.5  2549.5  1745.5\n",
            "1    12.876590  75.252420  0.92   580.0  ...  3384.0  2885.5  2903.5  1903.0\n",
            "2    12.881440  75.247880  1.17   637.5  ...  3059.5  3250.5  2833.0  1807.5\n",
            "3    12.875680  75.245390  0.98   780.5  ...  3219.5  3247.0  2860.0  1880.5\n",
            "4    12.868007  75.240198  0.65   684.0  ...  2662.0  2879.5  2379.0  1613.0\n",
            "..         ...        ...   ...     ...  ...     ...     ...     ...     ...\n",
            "212  12.845900  74.986040  1.04   700.0  ...  3597.5  3065.0  4756.0  3057.5\n",
            "213  12.847700  74.983670  1.12   785.5  ...  3909.5  3302.5  4665.5  2898.0\n",
            "214  12.846098  74.983320  0.45   565.5  ...  3456.5  3277.5  2836.5  1761.0\n",
            "215  12.856100  74.977740  0.94   827.5  ...  3001.5  2977.0  3221.5  2189.5\n",
            "216  12.849920  74.984800  1.04  1065.0  ...  3624.0  3668.0  4096.5  2902.0\n",
            "\n",
            "[217 rows x 15 columns]\n"
          ]
        }
      ]
    },
    {
      "cell_type": "code",
      "source": [
        "def pre_processing(data, sav_gol=True, sav_win=11, sav_pol=2, std=True):\n",
        "  \n",
        "  new_df =  data.drop([\"LATITUDE\", \"LONGITUDE\", \"OC\"], axis =1)  # removing lat long and oc for Sav gol\n",
        "  if sav_gol==True:   # checking if sav_gol is required\n",
        "    new_df = pd.DataFrame(savgol_filter(new_df, sav_win, sav_pol, axis=1))\n",
        "  new_df.columns = data.columns[3:]\n",
        "  \n",
        "  new_df[\"OC\"] = data[\"OC\"]\n",
        "  if std==True:       # checking if standardising is required\n",
        "      mean = new_df.mean(axis = 0)\n",
        "      std = new_df.std(axis = 0)\n",
        "      new_df = (new_df-mean)/std\n",
        "  \n",
        "  return (new_df)"
      ],
      "metadata": {
        "id": "fBtlEqxQBx0y"
      },
      "execution_count": 71,
      "outputs": []
    },
    {
      "cell_type": "code",
      "source": [
        "print(df.mean(axis=0))\n",
        "print(pre_processing(df))"
      ],
      "metadata": {
        "id": "drJyJRfrJdI8",
        "outputId": "13dacaaa-d078-4895-95b6-27ad35e84455",
        "colab": {
          "base_uri": "https://localhost:8080/"
        }
      },
      "execution_count": 73,
      "outputs": [
        {
          "output_type": "stream",
          "name": "stdout",
          "text": [
            "LATITUDE       12.920576\n",
            "LONGITUDE      74.991137\n",
            "OC              0.962673\n",
            "443.9         750.347926\n",
            "496.6        1041.041475\n",
            "560          1412.092166\n",
            "664.5        1809.993088\n",
            "703.9        2086.711982\n",
            "740.2        2603.760369\n",
            "782.5        2900.937788\n",
            "835.1        2924.559908\n",
            "864.8        3120.755760\n",
            "945          3080.288018\n",
            "1613.7       3659.124424\n",
            "2202.4       2615.682028\n",
            "dtype: float64\n",
            "        443.9     496.6       560  ...    1613.7    2202.4        OC\n",
            "0   -1.359204 -1.505741 -1.456658  ... -1.981277 -1.808073  0.114616\n",
            "1   -1.833071 -0.889543 -0.080230  ... -1.165377 -1.608618 -0.131031\n",
            "2   -1.221219 -1.173820 -0.987467  ... -1.245716 -1.321511  0.636616\n",
            "3   -0.572184 -0.335736 -0.134436  ... -1.126022 -1.315513  0.053205\n",
            "4   -1.789664 -1.804455 -1.604452  ... -2.025786 -2.014785 -0.960089\n",
            "..        ...       ...       ...  ...       ...       ...       ...\n",
            "212 -0.209428  0.756358  1.418258  ...  1.340942  0.801750  0.237440\n",
            "213  0.598125  2.076387  2.929799  ...  1.407291  0.556987  0.483087\n",
            "214 -1.130889 -0.528272 -0.017179  ... -1.108052 -1.443033 -1.574207\n",
            "215 -0.522186 -0.826848 -0.948649  ... -0.776573 -0.699300 -0.069619\n",
            "216  0.251318  0.163369  0.128809  ...  1.098940  0.866276  0.237440\n",
            "\n",
            "[217 rows x 13 columns]\n"
          ]
        }
      ]
    },
    {
      "cell_type": "code",
      "source": [
        "\n",
        "print(df.iloc[1,3:])\n",
        "sav= (savgol_filter(df.iloc[1,3:], 11, 2))\n",
        "print((sav))\n",
        "new_df =  df.drop([\"LATITUDE\", \"LONGITUDE\", \"OC\"], axis =1)\n",
        "def my_filter(x):\n",
        "    return savgol_filter(x, 11, 2)\n",
        "newnew_df = pd.DataFrame(savgol_filter(new_df, 11, 2, axis=1))\n",
        "print(new_df)\n",
        "print (newnew_df)\n"
      ],
      "metadata": {
        "id": "WHMv-PTQD4p6",
        "outputId": "d94bed29-2585-4c92-9df5-d7f95aaddf39",
        "colab": {
          "base_uri": "https://localhost:8080/"
        }
      },
      "execution_count": null,
      "outputs": [
        {
          "output_type": "stream",
          "name": "stdout",
          "text": [
            "443.9      580.0\n",
            "496.6      807.0\n",
            "560       1269.0\n",
            "664.5     1555.0\n",
            "703.9     2117.5\n",
            "740.2     2912.0\n",
            "782.5     3223.5\n",
            "835.1     3151.0\n",
            "864.8     3384.0\n",
            "945       2885.5\n",
            "1613.7    2903.5\n",
            "2202.4    1903.0\n",
            "Name: 1, dtype: float64\n",
            "[ 240.09440559  892.21048951 1461.17855478 1946.9986014  2349.67062937\n",
            " 2669.19463869 3056.32051282 3158.8020979  3124.76503497 2954.20932401\n",
            " 2647.13496503 2203.54195804]\n",
            "      443.9   496.6     560   664.5  ...   864.8     945  1613.7  2202.4\n",
            "0     596.5   645.5   936.5  1281.0  ...  2558.5  2770.5  2549.5  1745.5\n",
            "1     580.0   807.0  1269.0  1555.0  ...  3384.0  2885.5  2903.5  1903.0\n",
            "2     637.5   815.5  1084.0  1404.0  ...  3059.5  3250.5  2833.0  1807.5\n",
            "3     780.5  1004.0  1274.0  1674.0  ...  3219.5  3247.0  2860.0  1880.5\n",
            "4     684.0   577.5   892.0   904.5  ...  2662.0  2879.5  2379.0  1613.0\n",
            "..      ...     ...     ...     ...  ...     ...     ...     ...     ...\n",
            "212   700.0  1052.0  1652.0  2486.0  ...  3597.5  3065.0  4756.0  3057.5\n",
            "213   785.5  1381.0  2182.0  3190.0  ...  3909.5  3302.5  4665.5  2898.0\n",
            "214   565.5  1093.0  1414.0  1748.0  ...  3456.5  3277.5  2836.5  1761.0\n",
            "215   827.5   830.5  1084.0  1281.0  ...  3001.5  2977.0  3221.5  2189.5\n",
            "216  1065.0   968.5  1303.0  1594.0  ...  3624.0  3668.0  4096.5  2902.0\n",
            "\n",
            "[217 rows x 12 columns]\n",
            "             0            1   ...           10           11\n",
            "0    353.230769   751.937762  ...  2323.658741  2103.783217\n",
            "1    240.094406   892.210490  ...  2647.134965  2203.541958\n",
            "2    386.174825   827.497203  ...  2615.283217  2347.139860\n",
            "3    541.132867  1018.280420  ...  2662.737762  2350.139860\n",
            "4    250.458042   683.937762  ...  2306.012587  2000.395105\n",
            "..          ...          ...  ...          ...          ...\n",
            "212  627.741259  1266.887413  ...  3640.804196  3409.101399\n",
            "213  820.545455  1567.381818  ...  3667.109091  3286.681818\n",
            "214  407.741259   974.451049  ...  2669.862238  2286.360140\n",
            "215  553.069930   906.482517  ...  2801.282517  2658.342657\n",
            "216  737.744755  1131.897902  ...  3544.858741  3441.374126\n",
            "\n",
            "[217 rows x 12 columns]\n"
          ]
        }
      ]
    }
  ]
}